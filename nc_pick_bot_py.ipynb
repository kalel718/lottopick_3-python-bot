{
  "nbformat": 4,
  "nbformat_minor": 0,
  "metadata": {
    "colab": {
      "provenance": [],
      "authorship_tag": "ABX9TyNJ9g4yarhBBhyYiskjvUNL",
      "include_colab_link": true
    },
    "kernelspec": {
      "name": "python3",
      "display_name": "Python 3"
    },
    "language_info": {
      "name": "python"
    }
  },
  "cells": [
    {
      "cell_type": "markdown",
      "metadata": {
        "id": "view-in-github",
        "colab_type": "text"
      },
      "source": [
        "<a href=\"https://colab.research.google.com/github/kalel718/lottopick_3-python-bot/blob/main/nc_pick_bot_py.ipynb\" target=\"_parent\"><img src=\"https://colab.research.google.com/assets/colab-badge.svg\" alt=\"Open In Colab\"/></a>"
      ]
    },
    {
      "cell_type": "code",
      "execution_count": 20,
      "metadata": {
        "colab": {
          "base_uri": "https://localhost:8080/"
        },
        "id": "8OapBOZHogsb",
        "outputId": "e7ae7deb-544d-4073-94cd-4a48b208227a"
      },
      "outputs": [
        {
          "output_type": "stream",
          "name": "stdout",
          "text": [
            "Welcome to the NC Pick 3 Prediction Bot\n",
            "Enter 'day' for daytime draw or 'night' for evening draw: night\n",
            "Collecting and analyzing data for night draw...\n",
            "No data found for night draw. Generating mock data for research purposes.\n",
            "Looking for patterns...\n",
            "Generating prediction...\n",
            "Prediction for next night draw: 0-0-0\n",
            "\n",
            "Remember, this is for research purposes only. Lottery outcomes are random and unpredictable.\n"
          ]
        }
      ],
      "source": [
        "import requests\n",
        "from bs4 import BeautifulSoup\n",
        "import pandas as pd\n",
        "from sklearn.model_selection import train_test_split\n",
        "from sklearn.linear_model import LogisticRegression\n",
        "import random\n",
        "\n",
        "# Define the missing functions (placeholders)\n",
        "def analyze_data(data):\n",
        "    # Placeholder for data analysis logic\n",
        "    return data\n",
        "\n",
        "def find_patterns(data):\n",
        "    # Placeholder for pattern finding logic\n",
        "    X = data['Numbers'].str.split('-', expand=True).astype(int)\n",
        "    y = X.sum(axis=1) % 2  # Example target: sum of numbers being even or odd\n",
        "    return train_test_split(X, y, test_size=0.2, random_state=42)\n",
        "\n",
        "def generate_prediction(X_train, X_test, y_train, y_test):\n",
        "    # Placeholder for prediction logic\n",
        "    model = LogisticRegression()\n",
        "    model.fit(X_train, y_train)\n",
        "    return model.predict(X_test)\n",
        "\n",
        "def scrape_lottery_data(url, draw_type):\n",
        "    try:\n",
        "        response = requests.get(url)\n",
        "        response.raise_for_status()\n",
        "        soup = BeautifulSoup(response.text, 'html.parser')\n",
        "        data = []\n",
        "        for row in soup.find_all('tr'):\n",
        "            cols = row.find_all('td')\n",
        "            if len(cols) >= 4:\n",
        "                date = cols[0].text.strip()\n",
        "                numbers = cols[3].text.strip() if draw_type == 'day' else cols[4].text.strip()\n",
        "                data.append([date, numbers])\n",
        "        if not data:\n",
        "            print(f\"No data found for {draw_type} draw. Generating mock data for research purposes.\")\n",
        "            # Generate mock data\n",
        "            for _ in range(180):\n",
        "                date = f\"2023-{random.randint(1,12):02d}-{random.randint(1,28):02d}\"\n",
        "                numbers = f\"{random.randint(0,9)}-{random.randint(0,9)}-{random.randint(0,9)}\"\n",
        "                data.append([date, numbers])\n",
        "        return pd.DataFrame(data, columns=['Date', 'Numbers'])\n",
        "    except requests.RequestException as e:\n",
        "        print(f\"Error fetching data: {e}. Generating mock data for research purposes.\")\n",
        "        # Generate mock data\n",
        "        data = []\n",
        "        for _ in range(180):\n",
        "            date = f\"2023-{random.randint(1,12):02d}-{random.randint(1,28):02d}\"\n",
        "            numbers = f\"{random.randint(0,9)}-{random.randint(0,9)}-{random.randint(0,9)}\"\n",
        "            data.append([date, numbers])\n",
        "        return pd.DataFrame(data, columns=['Date', 'Numbers'])\n",
        "\n",
        "def bot_interface():\n",
        "    print(\"Welcome to the NC Pick 3 Prediction Bot\")\n",
        "    url = \"https://nclottery.com/Pick3Past180Days\"\n",
        "\n",
        "    while True:\n",
        "        draw_type = input(\"Enter 'day' for daytime draw or 'night' for evening draw: \").lower()\n",
        "        if draw_type in ['day', 'night']:\n",
        "            break\n",
        "        print(\"Invalid input. Please enter 'day' or 'night'.\")\n",
        "\n",
        "    print(f\"Collecting and analyzing data for {draw_type} draw...\")\n",
        "    data = scrape_lottery_data(url, draw_type)\n",
        "    analyzed_data = analyze_data(data)\n",
        "\n",
        "    print(\"Looking for patterns...\")\n",
        "    X_train, X_test, y_train, y_test = find_patterns(analyzed_data)\n",
        "\n",
        "    print(\"Generating prediction...\")\n",
        "    prediction = generate_prediction(X_train, X_test, y_train, y_test)\n",
        "\n",
        "    print(f\"Prediction for next {draw_type} draw: {prediction[0]}-{prediction[1]}-{prediction[2]}\")\n",
        "    print(\"\\nRemember, this is for research purposes only. Lottery outcomes are random and unpredictable.\")\n",
        "\n",
        "if __name__ == \"__main__\":\n",
        "    bot_interface()\n"
      ]
    }
  ]
}